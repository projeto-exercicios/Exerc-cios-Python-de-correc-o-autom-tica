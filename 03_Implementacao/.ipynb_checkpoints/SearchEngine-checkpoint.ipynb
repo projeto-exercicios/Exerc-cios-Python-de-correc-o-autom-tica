{
 "cells": [
  {
   "cell_type": "code",
   "execution_count": 6,
   "metadata": {},
   "outputs": [],
   "source": [
    "import os\n",
    "\n",
    "class SearchEngine:\n",
    "    \n",
    "    def __init__(self):\n",
    "        self.directory = os.getcwd()\n",
    "        self.folders = os.listdir()\n",
    "    \n",
    "    def __repr__(self):\n",
    "        return 'directory: '+ str(self.directory) + ', folders: '+ str(self.folders)\n",
    "    \n",
    "    def setDirectory(self, directory):\n",
    "        os.chdir(directory)\n",
    "        self.refresh()\n",
    "        \n",
    "    def getDirectory(self):\n",
    "        return self.directory\n",
    "    \n",
    "    def getFolders(self):\n",
    "        return self.folders\n",
    "    \n",
    "    def goBack(self):\n",
    "        os.chdir(os.path.dirname(\"../\"))\n",
    "        self.refresh()\n",
    "    \n",
    "    def goFoward(self, folder):\n",
    "        os.chdir(self.directory + \"\\\\\" + folder)\n",
    "        self.refresh()\n",
    "    \n",
    "    def refresh(self):\n",
    "        self.directory = os.getcwd()\n",
    "        self.folders = os.listdir()\n",
    "    "
   ]
  },
  {
   "cell_type": "code",
   "execution_count": null,
   "metadata": {},
   "outputs": [],
   "source": []
  }
 ],
 "metadata": {
  "kernelspec": {
   "display_name": "Python 3",
   "language": "python",
   "name": "python3"
  },
  "language_info": {
   "codemirror_mode": {
    "name": "ipython",
    "version": 3
   },
   "file_extension": ".py",
   "mimetype": "text/x-python",
   "name": "python",
   "nbconvert_exporter": "python",
   "pygments_lexer": "ipython3",
   "version": "3.7.6"
  }
 },
 "nbformat": 4,
 "nbformat_minor": 4
}
