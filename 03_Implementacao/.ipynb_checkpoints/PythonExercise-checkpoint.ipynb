{
 "cells": [
  {
   "cell_type": "code",
   "execution_count": 1,
   "metadata": {},
   "outputs": [
    {
     "data": {
      "application/vnd.jupyter.widget-view+json": {
       "model_id": "755ba884f2a74c7a8bedf85a3812492b",
       "version_major": 2,
       "version_minor": 0
      },
      "text/plain": [
       "Image(value=b'\\x89PNG\\r\\n\\x1a\\n\\x00\\x00\\x00\\rIHDR\\x00\\x00\\x03\\xb5\\x00\\x00\\x01\\xe2\\x08\\x02\\x00\\x00\\x00\\xb8/|\\x0…"
      ]
     },
     "metadata": {},
     "output_type": "display_data"
    }
   ],
   "source": [
    "#imports\n",
    "%run SearchEngine.ipynb\n",
    "\n",
    "class PythonExercise:\n",
    "    \n",
    "    def __init__(self):\n",
    "        self.theFolderName = 'true_or_false_question'\n",
    "        self.foldersNames = ['qom_questions_transformer','true_or_false_question']\n",
    "        self.filesNames = ['true_or_false_question.tex','program.py','util_make_random_versions.py']\n",
    "        self.questionpdf = 'true_or_false_question.png'\n",
    "        self.linesName = ['answer_','_true.pdf']\n",
    "        self.directory = ''\n",
    "        self.filePath = ''\n",
    "        self.searchEngine = SearchEngine()\n",
    "        \n",
    "        self.folders = []\n",
    "        self.files = []\n",
    "        \n",
    "    def seeIfExercise(self, path):\n",
    "        #verificar se a pasta tem as pastas e ficheiros necessários para um exercício\n",
    "        self.searchEngine.setDirectory(path) #colocar na diretoria\n",
    "        folders = self.searchEngine.getFolders() #ir buscar folders\n",
    "        if self.isFolderExercise(folders): #verificar folders\n",
    "            self.searchEngine.goFoward(self.filePath) #abrir folder do exercicio\n",
    "            files = self.searchEngine.getFolders() #ir buscar ficheiros\n",
    "            if self.isFilesExercise(files): #verificar ficheiros\n",
    "                return True\n",
    "        return False\n",
    "    \n",
    "    def isFolderExercise(self, folders):\n",
    "        counter = 0\n",
    "        for folder in folders: #verificar se um folder em que o nome se inicia por.\n",
    "            for name in self.foldersNames:\n",
    "                if folder[:len(name)] == name:\n",
    "                    counter += 1\n",
    "                    if(name == self.theFolderName):#se o folder do exercicio existir\n",
    "                        self.filePath = folder #guardar nova diretoria para ser usada\n",
    "        if counter == len(self.foldersNames): #se todos os folders estiverem na pasta é uma pasta exercício\n",
    "            return True\n",
    "        return False\n",
    "    \n",
    "    def isFilesExercise(self, files):\n",
    "        #verificar se o folder tem os ficheiros necessários ao exercício\n",
    "        counter = 0\n",
    "        for file in files:\n",
    "            for name in self.filesNames:\n",
    "                if file == name:\n",
    "                    counter += 1\n",
    "        if counter == len(self.filesNames):\n",
    "            return True\n",
    "        return False\n",
    "    \n",
    "    def getExerciseImg(self):\n",
    "        file = open(self.searchEngine.getDirectory() + '\\\\' + self.questionpdf, 'rb')\n",
    "        img = file.read()\n",
    "        return img\n",
    "    def getLinesImg(self):\n",
    "        done = False\n",
    "        lines = []\n",
    "        i = 0\n",
    "        while done == False:\n",
    "            name = self.linesName[0]+str(i)+self.linesName[1]\n",
    "            #sver se o ficheiro existe\n",
    "            \n",
    "            \n",
    "    \n",
    "    #def getVersionsDifferences(self):\n",
    "        \n",
    "\n",
    "#a = PythonExercise()\n",
    "#b = a.seeIfExercise('C:\\\\6SEM\\\\Projeto\\\\Projeto\\\\Data Base\\\\Exercício 1')\n",
    "#h = a.getExerciseImg()"
   ]
  },
  {
   "cell_type": "code",
   "execution_count": null,
   "metadata": {},
   "outputs": [],
   "source": []
  }
 ],
 "metadata": {
  "kernelspec": {
   "display_name": "Python 3",
   "language": "python",
   "name": "python3"
  },
  "language_info": {
   "codemirror_mode": {
    "name": "ipython",
    "version": 3
   },
   "file_extension": ".py",
   "mimetype": "text/x-python",
   "name": "python",
   "nbconvert_exporter": "python",
   "pygments_lexer": "ipython3",
   "version": "3.7.6"
  }
 },
 "nbformat": 4,
 "nbformat_minor": 4
}
