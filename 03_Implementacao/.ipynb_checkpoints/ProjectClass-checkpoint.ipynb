{
 "cells": [
  {
   "cell_type": "code",
   "execution_count": 2,
   "metadata": {},
   "outputs": [],
   "source": [
    "\n",
    "##não usados\n",
    "def extensionCheck(fType, field1, field2):\n",
    "    extension =  \".py\" if fType == \"py\" else \".tex\"\n",
    "    extensionLetter = -3 if fType == \"py\" else -4\n",
    "    if field1[extensionLetter:] != extension and field2[extensionLetter:] != extension:\n",
    "        print(\"Os ficheiros indicados são inválidos\")\n",
    "        return False\n",
    "    if field1[extensionLetter:] != extension:\n",
    "        print(\"O primeiro ficheiro indicado está inválido\")\n",
    "        return False\n",
    "    if field2.value[extensionLetter:] != extension:\n",
    "        print(\"O segundo ficheiro indicado está inválido\")\n",
    "        return False\n",
    "    else: return True"
   ]
  },
  {
   "cell_type": "code",
   "execution_count": 1,
   "metadata": {},
   "outputs": [
    {
     "data": {
      "application/vnd.jupyter.widget-view+json": {
       "model_id": "1bca062f367c466386699f2e196f8a47",
       "version_major": 2,
       "version_minor": 0
      },
      "text/plain": [
       "Text(value='')"
      ]
     },
     "metadata": {},
     "output_type": "display_data"
    },
    {
     "data": {
      "application/vnd.jupyter.widget-view+json": {
       "model_id": "9eca7cbf9cc04d25b00916922955b262",
       "version_major": 2,
       "version_minor": 0
      },
      "text/plain": [
       "HBox(children=(Button(description='backward', style=ButtonStyle()), Button(description='forward', style=Button…"
      ]
     },
     "metadata": {},
     "output_type": "display_data"
    },
    {
     "name": "stdout",
     "output_type": "stream",
     "text": [
      "D:\\Faculdade\\6\\Projeto\\projeto\\python\\true_or_false_question_indexing_pyhton_list - Copy - Copy - Copy (2)\n",
      "answers_program.py\n",
      "answers_program.py~\n",
      "answer_1_false.aux\n",
      "answer_1_false.log\n",
      "answer_1_false.pdf\n",
      "answer_1_false.png\n",
      "answer_1_false.solution\n",
      "answer_1_false.tex\n",
      "answer_1_false.tex~\n",
      "answer_1_true.aux\n",
      "answer_1_true.log\n",
      "answer_1_true.pdf\n",
      "answer_1_true.png\n",
      "answer_1_true.solution\n",
      "answer_1_true.synctex.gz\n",
      "answer_1_true.tex\n",
      "answer_1_true.tex~\n",
      "answer_2_false.aux\n",
      "answer_2_false.log\n",
      "answer_2_false.pdf\n",
      "answer_2_false.png\n",
      "answer_2_false.solution\n",
      "answer_2_false.tex\n",
      "answer_2_false.tex~\n",
      "answer_2_true.aux\n",
      "answer_2_true.log\n",
      "answer_2_true.pdf\n",
      "answer_2_true.png\n",
      "answer_2_true.solution\n",
      "answer_2_true.tex\n",
      "answer_2_true.tex~\n",
      "answer_3_false.aux\n",
      "answer_3_false.log\n",
      "answer_3_false.pdf\n",
      "answer_3_false.png\n",
      "answer_3_false.solution\n",
      "answer_3_false.tex\n",
      "answer_3_false.tex~\n",
      "answer_3_true.aux\n",
      "answer_3_true.log\n",
      "answer_3_true.pdf\n",
      "answer_3_true.png\n",
      "answer_3_true.solution\n",
      "answer_3_true.tex\n",
      "answer_3_true.tex~\n",
      "answer_4_false.aux\n",
      "answer_4_false.log\n",
      "answer_4_false.pdf\n",
      "answer_4_false.png\n",
      "answer_4_false.solution\n",
      "answer_4_false.tex\n",
      "answer_4_false.tex~\n",
      "answer_4_true.aux\n",
      "answer_4_true.log\n",
      "answer_4_true.pdf\n",
      "answer_4_true.png\n",
      "answer_4_true.solution\n",
      "answer_4_true.tex\n",
      "answer_4_true.tex~\n",
      "answer_5_false.aux\n",
      "answer_5_false.log\n",
      "answer_5_false.pdf\n",
      "answer_5_false.png\n",
      "answer_5_false.solution\n",
      "answer_5_false.tex\n",
      "answer_5_false.tex~\n",
      "answer_5_true.aux\n",
      "answer_5_true.log\n",
      "answer_5_true.pdf\n",
      "answer_5_true.png\n",
      "answer_5_true.solution\n",
      "answer_5_true.tex\n",
      "answer_5_true.tex~\n",
      "full_program.py\n",
      "full_program_output.txt\n",
      "latex_packages.tex\n",
      "make_pdfs.log\n",
      "make_pdfs.py\n",
      "make_pdfs.py~\n",
      "make_random_versions.log\n",
      "make_random_versions.py\n",
      "make_random_versions.py~\n",
      "make_transformations.py\n",
      "make_transformations.py~\n",
      "program.py\n",
      "program.py~\n",
      "questiom.sty\n",
      "question\n",
      "true_or_false_question.aux\n",
      "true_or_false_question.log\n",
      "true_or_false_question.pdf\n",
      "true_or_false_question.png\n",
      "true_or_false_question.tex\n",
      "util_make_random_versions.py\n",
      "util_make_random_versions.py~\n",
      "__pycache__\n"
     ]
    }
   ],
   "source": [
    "import os\n",
    "import glob\n",
    "import ipywidgets as wg\n",
    "from differenceFinder import *\n",
    "from IPython.display import clear_output\n",
    "from ipywidgets import interact, interact_manual, fixed\n",
    "\n",
    "\n",
    "def back(obj):\n",
    "    os.chdir(os.path.dirname(\"../\"))\n",
    "    clear_output(wait=True)\n",
    "    display(text,hbox)\n",
    "    print(os.getcwd())\n",
    "    for dir in os.listdir():\n",
    "        print(dir)\n",
    "    \n",
    "    \n",
    "def forward(obj):\n",
    "    text.value = os.getcwd() if text.value == \"\" else text.value\n",
    "    os.chdir(os.path.dirname(text.value + \"\\\\\"))\n",
    "    text.value = \"\"\n",
    "    clear_output(wait=True)\n",
    "    display(text,hbox)\n",
    "    print(os.getcwd())\n",
    "    for dir in os.listdir():\n",
    "        print(dir)\n",
    "\n",
    "button = wg.Button(description=\"forward\")\n",
    "button2 = wg.Button(description=\"backward\")\n",
    "hbox = wg.HBox([button2,button])\n",
    "text = wg.Text(value=\"\")\n",
    "display(text,hbox)\n",
    "button.on_click(forward)\n",
    "button2.on_click(back)\n",
    "print(os.getcwd())\n",
    "for dir in os.listdir():\n",
    "    print(dir)"
   ]
  },
  {
   "cell_type": "code",
   "execution_count": 2,
   "metadata": {},
   "outputs": [
    {
     "data": {
      "application/vnd.jupyter.widget-view+json": {
       "model_id": "cc696e82981147e8ab42bf3489a2a440",
       "version_major": 2,
       "version_minor": 0
      },
      "text/plain": [
       "VBox(children=(Text(value='answer_5_false', placeholder='write file name without extension'), HBox(children=(T…"
      ]
     },
     "metadata": {},
     "output_type": "display_data"
    },
    {
     "data": {
      "application/vnd.jupyter.widget-view+json": {
       "model_id": "7b354501319c421388487a973bc7741c",
       "version_major": 2,
       "version_minor": 0
      },
      "text/plain": [
       "HBox(children=(Button(description='python', style=ButtonStyle()), Button(description='tex file', style=ButtonS…"
      ]
     },
     "metadata": {},
     "output_type": "display_data"
    },
    {
     "data": {
      "text/html": [
       " "
      ],
      "text/plain": [
       "<IPython.core.display.HTML object>"
      ]
     },
     "metadata": {},
     "output_type": "display_data"
    },
    {
     "data": {
      "text/html": [
       "O elemento da lista <b><i>\\verb+r+,</i></b> no índice <b><i>\\verb+7347+,</i></b> é <b><i>uma</i></b> "
      ],
      "text/plain": [
       "<IPython.core.display.HTML object>"
      ]
     },
     "metadata": {},
     "output_type": "display_data"
    },
    {
     "data": {
      "text/html": [
       " "
      ],
      "text/plain": [
       "<IPython.core.display.HTML object>"
      ]
     },
     "metadata": {},
     "output_type": "display_data"
    }
   ],
   "source": [
    "  \n",
    "def fileCompleter(fileName, extension):\n",
    "    files = glob.glob('*.' + extension)\n",
    "    for file in files:\n",
    "        if fileName in file:\n",
    "            return file\n",
    "    return \"ficheiro não foi encontrado\"\n",
    "\n",
    "\n",
    "def pythonButton(obj):\n",
    "    clear_output(wait=True)\n",
    "    display(vBoxTexts, hBoxButtons)\n",
    "    extension = \"py\"\n",
    "    if textFile1.value == \"\" and textFile2.value == \"\":\n",
    "        print(\"Falta preencher os dois campos\")\n",
    "        return\n",
    "    if textFile1.value == \"\":\n",
    "        print(\"Falta preencher o primeiro campo\")\n",
    "        return\n",
    "    if textFile2.value == \"\":\n",
    "        print(\"Falta preencher o segundo campo\")\n",
    "        return\n",
    "    field1 = fileCompleter(textFile1.value, extension)\n",
    "    field2 = fileCompleter(textFile2.value, extension)\n",
    "    if field1 == \"ficheiro não foi encontrado\" and field2 == \"ficheiro não foi encontrado\":\n",
    "        print(\"Os dois ficheiros não foram encontrados\")\n",
    "        return \n",
    "    if field1 == \"ficheiro não foi encontrado\":\n",
    "        print(\"O primeiro \" + field1)\n",
    "        return \n",
    "    if field2 == \"ficheiro não foi encontrado\":\n",
    "        print(\"O segundo \" + field2)\n",
    "        return\n",
    "    if field1 != field2:\n",
    "        print(\"Escolheu ficheiros diferentes\")\n",
    "        return\n",
    "    else :\n",
    "        if checkBoxPrefix.value is True: pythonHTML(field1, field2, textPrefix.value)\n",
    "        if checkBoxPrefix.value is False: pythonHTML(field1, field2)\n",
    "\n",
    "\n",
    "def texButton(obj):\n",
    "    clear_output(wait=True)\n",
    "    display(vBoxTexts, hBoxButtons)\n",
    "    extension = \"tex\"\n",
    "    if textFile1.value == \"\" and textFile2.value == \"\":\n",
    "        print(\"Falta preencher os dois campos\")\n",
    "        return\n",
    "    if textFile1.value == \"\":\n",
    "        print(\"Falta preencher o primeiro campo\")\n",
    "        return\n",
    "    if textFile2.value == \"\":\n",
    "        print(\"Falta preencher o segundo campo\")\n",
    "        return\n",
    "    field1 = fileCompleter(textFile1.value, extension)\n",
    "    field2 = fileCompleter(textFile2.value, extension)\n",
    "    if field1 == \"ficheiro não foi encontrado\" and field2 == \"ficheiro não foi encontrado\":\n",
    "        print(\"Os dois ficheiros não foram encontrados\")\n",
    "        return \n",
    "    if field1 == \"ficheiro não foi encontrado\":\n",
    "        print(\"O primeiro \" + field1)\n",
    "        return \n",
    "    if field2 == \"ficheiro não foi encontrado\":\n",
    "        print(\"O segundo \" + field2)\n",
    "        return\n",
    "    if field1 != field2:\n",
    "        print(\"Escolheu ficheiros diferentes\")\n",
    "        return\n",
    "    else :\n",
    "        if checkBoxPrefix.value is True: questionHTML(field1, field2, textPrefix.value)\n",
    "        if checkBoxPrefix.value is False: questionHTML(field1, field2)\n",
    "\n",
    "textFile1 = wg.Text(value=\"\", placeholder=\"write file name without extension\")\n",
    "textFile2 = wg.Text(value=\"\", placeholder=\"write file name without extension\")\n",
    "textPrefix = wg.Text(value=\"\", placeholder=\"prefix optional\")\n",
    "buttonPy = wg.Button(description=\"python\")\n",
    "buttonTex = wg.Button(description=\"tex file\")\n",
    "checkBoxPrefix = wg.Checkbox(False, description='use prefix')\n",
    "hBoxTextWPrefix = wg.HBox([textFile2,textPrefix,checkBoxPrefix])\n",
    "vBoxTexts = wg.VBox([textFile1,hBoxTextWPrefix])\n",
    "hBoxButtons = wg.HBox([buttonPy,buttonTex])\n",
    "display(vBoxTexts, hBoxButtons)\n",
    "buttonPy.on_click(pythonButton)\n",
    "buttonTex.on_click(texButton)"
   ]
  },
  {
   "cell_type": "code",
   "execution_count": 110,
   "metadata": {},
   "outputs": [],
   "source": [
    "import re\n",
    "f = open('answer_5_true.tex','r',encoding='utf_8')\n",
    "arr = re.split('\\n|\\n\\n',f.read())\n",
    "\n",
    "def idxFinder(arr):\n",
    "    idxBegin = 0\n",
    "    idxCode = 0\n",
    "    isCode = False\n",
    "    idxEnd = 0\n",
    "    endFound = False\n",
    "\n",
    "    for indice in range(len(arr)):\n",
    "        if '\\\\begin{document}' in arr[indice]:\n",
    "            idxBegin = indice\n",
    "        if '\\\\lstinputlisting{' in arr[indice]:\n",
    "            idxCode = indice\n",
    "            isCode = True\n",
    "        if not endFound:\n",
    "            if '\\\\questiom' in arr[indice]:\n",
    "                idxEnd = indice\n",
    "                endFound = True\n",
    "            if '\\end{document}' in arr[indice]:\n",
    "                idxEnd = indice\n",
    "                endFound = True\n",
    "    return idxBegin, idxCode, idxEnd, isCode\n",
    "idxBegin, idxCode, idxEnd, isCode = idxFinder(arr)\n",
    "ft = \"\"\n",
    "if isCode:\n",
    "    ft = ''.join(arr[idxBegin + 1: idxCode])+ \"</br>\"\n",
    "    display(HTML(ft))\n",
    "    pythonHTML(code,code)\n",
    "    ft = ''.join(arr[idxCode + 1: idxEnd])+ \"</br>\"\n",
    "    display(HTML(ft))\n",
    "if not isCode:\n",
    "    ft += ''.join(arr[idxBegin + 1: idxEnd])+ \"</br>\"\n",
    "#HTML(ft)"
   ]
  },
  {
   "cell_type": "code",
   "execution_count": 94,
   "metadata": {},
   "outputs": [
    {
     "data": {
      "text/plain": [
       "(15, 18, 25)"
      ]
     },
     "execution_count": 94,
     "metadata": {},
     "output_type": "execute_result"
    }
   ],
   "source": [
    "idxBegin, idxCode, idxEnd"
   ]
  },
  {
   "cell_type": "code",
   "execution_count": 120,
   "metadata": {},
   "outputs": [],
   "source": [
    "\n"
   ]
  },
  {
   "cell_type": "code",
   "execution_count": 122,
   "metadata": {},
   "outputs": [
    {
     "data": {
      "text/html": [
       " "
      ],
      "text/plain": [
       "<IPython.core.display.HTML object>"
      ]
     },
     "metadata": {},
     "output_type": "display_data"
    },
    {
     "data": {
      "text/html": [
       "O elemento da lista <b><i>\\verb+n+,</i></b> no índice <b><i>\\verb+4581+,</i></b> é <b><i>1.</i></b> "
      ],
      "text/plain": [
       "<IPython.core.display.HTML object>"
      ]
     },
     "metadata": {},
     "output_type": "display_data"
    },
    {
     "data": {
      "text/html": [
       " "
      ],
      "text/plain": [
       "<IPython.core.display.HTML object>"
      ]
     },
     "metadata": {},
     "output_type": "display_data"
    }
   ],
   "source": []
  }
 ],
 "metadata": {
  "kernelspec": {
   "display_name": "Python 3",
   "language": "python",
   "name": "python3"
  },
  "language_info": {
   "codemirror_mode": {
    "name": "ipython",
    "version": 3
   },
   "file_extension": ".py",
   "mimetype": "text/x-python",
   "name": "python",
   "nbconvert_exporter": "python",
   "pygments_lexer": "ipython3",
   "version": "3.7.6"
  }
 },
 "nbformat": 4,
 "nbformat_minor": 2
}
