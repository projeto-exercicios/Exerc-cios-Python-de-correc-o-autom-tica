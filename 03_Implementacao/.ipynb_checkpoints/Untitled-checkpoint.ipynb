{
 "cells": [
  {
   "cell_type": "code",
   "execution_count": 1,
   "metadata": {
    "scrolled": false
   },
   "outputs": [
    {
     "data": {
      "application/vnd.jupyter.widget-view+json": {
       "model_id": "40d214622b844c8d8a9ddec311fee051",
       "version_major": 2,
       "version_minor": 0
      },
      "text/plain": [
       "Text(value='')"
      ]
     },
     "metadata": {},
     "output_type": "display_data"
    },
    {
     "data": {
      "application/vnd.jupyter.widget-view+json": {
       "model_id": "b16e767a174246e1b005712a614fda2b",
       "version_major": 2,
       "version_minor": 0
      },
      "text/plain": [
       "HBox(children=(Button(description='backward', style=ButtonStyle()), Button(description='forward', style=Button…"
      ]
     },
     "metadata": {},
     "output_type": "display_data"
    },
    {
     "name": "stdout",
     "output_type": "stream",
     "text": [
      "C:\\6SEM\\Projeto\\Projeto\\Data Base\\Exercício 1\\true_or_false_question_indexing_pyhton_list\n",
      "altered_full_program.py\n",
      "altered_make_transformations.py\n",
      "altered_make_transformations_for_code.py\n",
      "answers_program.py\n",
      "answers_program.py~\n",
      "answer_1_false.aux\n",
      "answer_1_false.log\n",
      "answer_1_false.pdf\n",
      "answer_1_false.png\n",
      "answer_1_false.solution\n",
      "answer_1_false.tex\n",
      "answer_1_false.tex~\n",
      "answer_1_true.aux\n",
      "answer_1_true.log\n",
      "answer_1_true.pdf\n",
      "answer_1_true.png\n",
      "answer_1_true.solution\n",
      "answer_1_true.tex\n",
      "answer_1_true.tex~\n",
      "answer_2_false.aux\n",
      "answer_2_false.log\n",
      "answer_2_false.pdf\n",
      "answer_2_false.png\n",
      "answer_2_false.solution\n",
      "answer_2_false.tex\n",
      "answer_2_false.tex~\n",
      "answer_2_true.aux\n",
      "answer_2_true.log\n",
      "answer_2_true.pdf\n",
      "answer_2_true.png\n",
      "answer_2_true.solution\n",
      "answer_2_true.tex\n",
      "answer_2_true.tex~\n",
      "answer_3_false.aux\n",
      "answer_3_false.log\n",
      "answer_3_false.pdf\n",
      "answer_3_false.png\n",
      "answer_3_false.solution\n",
      "answer_3_false.tex\n",
      "answer_3_false.tex~\n",
      "answer_3_true.aux\n",
      "answer_3_true.log\n",
      "answer_3_true.pdf\n",
      "answer_3_true.png\n",
      "answer_3_true.solution\n",
      "answer_3_true.tex\n",
      "answer_3_true.tex~\n",
      "answer_4_false.aux\n",
      "answer_4_false.log\n",
      "answer_4_false.pdf\n",
      "answer_4_false.png\n",
      "answer_4_false.solution\n",
      "answer_4_false.tex\n",
      "answer_4_false.tex~\n",
      "answer_4_true.aux\n",
      "answer_4_true.log\n",
      "answer_4_true.pdf\n",
      "answer_4_true.png\n",
      "answer_4_true.solution\n",
      "answer_4_true.tex\n",
      "answer_4_true.tex~\n",
      "answer_5_false.aux\n",
      "answer_5_false.log\n",
      "answer_5_false.pdf\n",
      "answer_5_false.png\n",
      "answer_5_false.solution\n",
      "answer_5_false.tex\n",
      "answer_5_false.tex~\n",
      "answer_5_true.aux\n",
      "answer_5_true.log\n",
      "answer_5_true.pdf\n",
      "answer_5_true.png\n",
      "answer_5_true.solution\n",
      "answer_5_true.tex\n",
      "answer_5_true.tex~\n",
      "full_program.py\n",
      "full_program_output.txt\n",
      "latex_packages.tex\n",
      "make_pdfs.log\n",
      "make_pdfs.py\n",
      "make_pdfs.py~\n",
      "make_random_versions.log\n",
      "make_random_versions.py\n",
      "make_random_versions.py~\n",
      "make_transformations.py\n",
      "make_transformations.py~\n",
      "program.py\n",
      "program.py~\n",
      "questiom.sty\n",
      "question\n",
      "simulated_tex.tex\n",
      "true_or_false_question.aux\n",
      "true_or_false_question.log\n",
      "true_or_false_question.pdf\n",
      "true_or_false_question.png\n",
      "true_or_false_question.synctex.gz\n",
      "true_or_false_question.tex\n",
      "util_make_random_versions.py\n",
      "util_make_random_versions.py~\n",
      "__pycache__\n"
     ]
    }
   ],
   "source": [
    "# import os\n",
    "import glob\n",
    "import ipywidgets as wg\n",
    "from differenceFinder import *\n",
    "from IPython.display import clear_output\n",
    "from ipywidgets import interact, interact_manual, fixed\n",
    "from IPython.display import display, HTML\n",
    "\n",
    "\n",
    "def back(obj):\n",
    "    os.chdir(os.path.dirname(\"../\"))\n",
    "    clear_output(wait=True)\n",
    "    display(text,hbox)\n",
    "    print(os.getcwd())\n",
    "    for dir in os.listdir():\n",
    "        print(dir)\n",
    "    \n",
    "    \n",
    "def forward(obj):\n",
    "    text.value = os.getcwd() if text.value == \"\" else text.value\n",
    "    os.chdir(os.path.dirname(text.value + \"\\\\\"))\n",
    "    text.value = \"\"\n",
    "    clear_output(wait=True)\n",
    "    display(text,hbox)\n",
    "    print(os.getcwd())\n",
    "    for dir in os.listdir():\n",
    "        print(dir)\n",
    "\n",
    "button = wg.Button(description=\"forward\")\n",
    "button2 = wg.Button(description=\"backward\")\n",
    "hbox = wg.HBox([button2,button])\n",
    "text = wg.Text(value=\"\")\n",
    "display(text,hbox)\n",
    "button.on_click(forward)\n",
    "button2.on_click(back)\n",
    "os.chdir(os.path.dirname(\"C:\\\\6SEM\\\\Projeto\\\\Projeto\\\\Data Base\\\\\"))\n",
    "print(os.getcwd())\n",
    "for dir in os.listdir():\n",
    "    print(dir)\n"
   ]
  },
  {
   "cell_type": "code",
   "execution_count": 2,
   "metadata": {},
   "outputs": [
    {
     "data": {
      "application/vnd.jupyter.widget-view+json": {
       "model_id": "526aeba4e5a7488693c10d80fe82c1a5",
       "version_major": 2,
       "version_minor": 0
      },
      "text/plain": [
       "HBox(children=(Text(value='answer_3_true.tex', placeholder='write file name without extension'), Text(value=''…"
      ]
     },
     "metadata": {},
     "output_type": "display_data"
    },
    {
     "data": {
      "application/vnd.jupyter.widget-view+json": {
       "model_id": "bc97a084f95d42c1b6f8e58e90c336c5",
       "version_major": 2,
       "version_minor": 0
      },
      "text/plain": [
       "Button(description='do something', style=ButtonStyle())"
      ]
     },
     "metadata": {},
     "output_type": "display_data"
    },
    {
     "data": {
      "text/html": [
       "\\documentclass[12pt,varwidth=16cm,border=1pt]{standalone}</br></br>\\input{latex_packages.tex}</br></br>\\begin{document}</br></br>O elemento da lista <b><font color=green><i>\\verb+h+</font></i></b>, no índice <b><font color=green><i>\\verb+9509+</font></i></b>, é <b><font color=green><i>1072</font></i></b>.</br></br>\\questiomtrue</br></br>\\end{document}</br></br>"
      ],
      "text/plain": [
       "<IPython.core.display.HTML object>"
      ]
     },
     "metadata": {},
     "output_type": "display_data"
    }
   ],
   "source": [
    "def fileCompleter(fileName, prefix = ''):\n",
    "    files = os.listdir(os.getcwd() + '/' + prefix)\n",
    "    for file in files:\n",
    "        if fileName == file:\n",
    "            return file\n",
    "    return \"não foi encontrado\"\n",
    "\n",
    "\n",
    "def buttonFunc(obj):\n",
    "    clear_output(wait=True)\n",
    "    display(hBoxTextWPrefix, button)\n",
    "    if textFile1.value == \"\":\n",
    "        print(\"Falta preencher inserir o nome do ficheiro\")\n",
    "        return\n",
    "    field1 = fileCompleter(textFile1.value,)\n",
    "    prefix = textPrefix.value if textPrefix.value != '' else 'question/version_1/'\n",
    "    field2 = fileCompleter(field1, prefix)\n",
    "    if field1 == \"não foi encontrado\":\n",
    "        print(\"O ficheiro original \" + field1)\n",
    "        return \n",
    "    if field2 == \"não foi encontrado\":\n",
    "        print(\"O ficheiro final \" + field2)\n",
    "        return\n",
    "    if \".py\" in field2:\n",
    "        display(wg.HTML(pythonHTML(field1)))\n",
    "    if \".tex\" in field2:\n",
    "        display(wg.HTML(questionHTML(field1)))\n",
    "\n",
    "\n",
    "\n",
    "textFile1 = wg.Text(value=\"\", placeholder=\"write file name without extension\")\n",
    "textPrefix = wg.Text(value=\"\", placeholder=\"prefix optional\")\n",
    "buttonPy = wg.Button(description=\"python\")\n",
    "buttonTex = wg.Button(description=\"tex file\")\n",
    "button = wg.Button(description=\"do something\")\n",
    "checkBoxPrefix = wg.Checkbox(False, description='use prefix')\n",
    "checkBoxPdf = wg.Checkbox(False, description='pdf version')\n",
    "hBoxTextWPrefix = wg.HBox([textFile1,textPrefix,checkBoxPrefix,checkBoxPdf])\n",
    "hBoxButtons = wg.HBox([buttonPy,buttonTex])\n",
    "display(hBoxTextWPrefix, button)\n",
    "#buttonPy.on_click(pythonButton)\n",
    "#buttonTex.on_click(texButton)\n",
    "button.on_click(buttonFunc)"
   ]
  },
  {
   "cell_type": "code",
   "execution_count": null,
   "metadata": {},
   "outputs": [],
   "source": []
  }
 ],
 "metadata": {
  "kernelspec": {
   "display_name": "Python 3",
   "language": "python",
   "name": "python3"
  },
  "language_info": {
   "codemirror_mode": {
    "name": "ipython",
    "version": 3
   },
   "file_extension": ".py",
   "mimetype": "text/x-python",
   "name": "python",
   "nbconvert_exporter": "python",
   "pygments_lexer": "ipython3",
   "version": "3.7.6"
  }
 },
 "nbformat": 4,
 "nbformat_minor": 4
}
