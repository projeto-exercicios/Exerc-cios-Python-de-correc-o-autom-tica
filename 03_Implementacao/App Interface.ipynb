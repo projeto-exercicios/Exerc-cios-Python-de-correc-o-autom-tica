{
 "cells": [
  {
   "cell_type": "code",
   "execution_count": 6,
   "metadata": {
    "scrolled": false
   },
   "outputs": [
    {
     "data": {
      "application/vnd.jupyter.widget-view+json": {
       "model_id": "0693b2dbac0740f4ac97ab3e459aedb1",
       "version_major": 2,
       "version_minor": 0
      },
      "text/plain": [
       "Box(children=(Button(description='<', layout=Layout(flex='1 20 auto', width='auto'), style=ButtonStyle(button_…"
      ]
     },
     "metadata": {},
     "output_type": "display_data"
    },
    {
     "data": {
      "application/vnd.jupyter.widget-view+json": {
       "model_id": "",
       "version_major": 2,
       "version_minor": 0
      },
      "text/plain": [
       "Box(children=(Button(description='DataBase', layout=Layout(width='auto'), style=ButtonStyle()), Button(descrip…"
      ]
     },
     "metadata": {},
     "output_type": "display_data"
    },
    {
     "data": {
      "application/vnd.jupyter.widget-view+json": {
       "model_id": "",
       "version_major": 2,
       "version_minor": 0
      },
      "text/plain": [
       "Box(children=(Button(description='true_or_false_question_32_bit_nums', layout=Layout(width='auto'), style=Butt…"
      ]
     },
     "metadata": {},
     "output_type": "display_data"
    },
    {
     "data": {
      "application/vnd.jupyter.widget-view+json": {
       "model_id": "40b9d35bd37a4628998b38ee995c7cc0",
       "version_major": 2,
       "version_minor": 0
      },
      "text/plain": [
       "Box(children=(Button(description='DataBase', layout=Layout(width='auto'), style=ButtonStyle()), Button(descrip…"
      ]
     },
     "metadata": {},
     "output_type": "display_data"
    }
   ],
   "source": [
    "#imports\n",
    "import ipywidgets as wg\n",
    "from SearchEngine import SearchEngine\n",
    "from ManipulatePyExercise import ManipulatePyExercise\n",
    "\n",
    "class AppInterface:\n",
    "    \n",
    "    #constructor\n",
    "    def __init__(self):\n",
    "        self.startVariables()\n",
    "        self.displaySearchEngine()\n",
    "    \n",
    "    #create and initialize variables\n",
    "    def startVariables(self):\n",
    "        #search\n",
    "        self.searchEngine = SearchEngine()\n",
    "        self.directory = self.searchEngine.getFileDirectory()\n",
    "        self.searchEngine.setDirectory(self.directory)\n",
    "        \n",
    "        #exercise\n",
    "        self.exercise = ManipulatePyExercise()\n",
    "        \n",
    "        #window size\n",
    "        self.num_percent = 80\n",
    "        self.percent = str(self.num_percent)+'%'\n",
    "        \n",
    "        #widgets\n",
    "        self.buttonBackSearch = 0\n",
    "        self.textViewSearch = 0\n",
    "        self.buttonSearch = 0\n",
    "        self.BoxSearch = wg.Box([])\n",
    "        \n",
    "        self.BoxFolders = wg.Box([])\n",
    "        self.BoxExercise = wg.Box([])\n",
    "        self.BoxVersions = wg.Box([])\n",
    "        self.BoxDifferences = wg.Box([])\n",
    "        self.BoxPyDifferences = wg.Box([])\n",
    "        self.BoxTexDifferences = wg.Box([])\n",
    "        self.BoxSeeVersions = wg.Box([])\n",
    "        self.BoxSeeVersion = wg.Box([])\n",
    "        \n",
    "        #versions\n",
    "        self.versions = 0\n",
    "        self.versionError = wg.HTML()\n",
    "        self.errorversion = False\n",
    "    \n",
    "    #____________________________________________________________________________________________________SEARCH\n",
    "    def getDirectory(self):\n",
    "        return self.searchEngine.getDirectory()\n",
    "    \n",
    "    def setDirectory(self, directory):\n",
    "        self.searchEngine.setDirectory(directory)\n",
    "    \n",
    "    #create and diplay interface widgets\n",
    "    def displaySearchEngine(self):\n",
    "        self.BoxSearch.close() #fechar a anterior se necessário\n",
    "        #------------------------------------------------------------------------------------button Back Search\n",
    "        buttonBackSearch_layout = wg.Layout(flex='1 20 auto', \n",
    "                                        width='50px')\n",
    "        buttonBackSearch_layout = wg.Layout(flex='1 20 auto',\n",
    "                                                width='auto')\n",
    "        self.buttonBackSearch = wg.Button(description='<', tooltip='back', layout=buttonBackSearch_layout)\n",
    "        self.buttonBackSearch.style.button_color = 'lightblue'\n",
    "        self.buttonBackSearch.on_click(self.back)\n",
    "        #---------------------------------------------------------------------------------------textView Search\n",
    "        textViewSearch_layout = wg.Layout(flex='15 20 auto', \n",
    "                                          width='auto')\n",
    "        self.textViewSearch = wg.Text(value=str(self.getDirectory()), layout=textViewSearch_layout)\n",
    "        #-----------------------------------------------------------------------------------------button Search\n",
    "        buttonSearch_layout = wg.Layout(flex='1 20 auto', \n",
    "                                        width='auto')\n",
    "        self.buttonSearch = wg.Button(description='Search', layout=buttonSearch_layout, button_style='info')\n",
    "        self.buttonSearch.on_click(self.search)\n",
    "        #--------------------------------------------------------------------------------------------Box Search\n",
    "        searchBox_layout = wg.Layout(display='flex',\n",
    "                                    flex_flow='row',\n",
    "                                    align_items='stretch',\n",
    "                                    width=self.percent)\n",
    "        self.BoxSearch = wg.Box(children=[self.buttonBackSearch,\n",
    "                                          self.textViewSearch, \n",
    "                                          self.buttonSearch], \n",
    "                                        layout=searchBox_layout)\n",
    "        #------------------------------------------------------------------------------------DISPLAY Box Search\n",
    "        display(self.BoxSearch)\n",
    "        self.displayFoldersBox()\n",
    "    \n",
    "    def closeBoxSerach(self):\n",
    "        self.BoxSearch.close()\n",
    "\n",
    "    #search onClick action\n",
    "    def search(self, b):\n",
    "        if(self.textViewSearch.value != \"\"):\n",
    "            self.directory = self.textViewSearch.value\n",
    "        self.searchEngine.setDirectory(self.directory) #alterar diretoria\n",
    "        self.textViewSearch.value = self.directory #alterar texto da busca\n",
    "        self.displayFoldersBox() #display folders\n",
    "    \n",
    "    #back search\n",
    "    def back(self, b):\n",
    "        self.searchEngine.goBack()\n",
    "        self.refreshTextViewPath()\n",
    "        self.displayFoldersBox()\n",
    "    \n",
    "    #foward search\n",
    "    def fowardSearch(self, b):\n",
    "        self.searchEngine.goFoward(b.description)\n",
    "        self.refreshTextViewPath()\n",
    "        self.verifyFolder()\n",
    "    \n",
    "    #create and display folders\n",
    "    def displayFoldersBox(self):\n",
    "        self.BoxFolders.close() #fechar a anterior se necessário\n",
    "        folders_layout = wg.Layout(width='auto')\n",
    "        folders = self.searchEngine.getFolders()\n",
    "        filtered_folders = self.filterFolders(folders)\n",
    "        items = [wg.Button(description=folder, layout=folders_layout) for folder in filtered_folders]\n",
    "        for item in items:\n",
    "            item.on_click(self.fowardSearch)\n",
    "        BoxFiles_layout = wg.Layout(display='flex',\n",
    "                                    flex_flow='column',\n",
    "                                    align_items='stretch',\n",
    "                                    width=self.percent)\n",
    "        self.BoxFolders = wg.Box(children=items, layout=BoxFiles_layout)\n",
    "        #------------------------------------------------------------------------------------DISPLAY Box Folders\n",
    "        display(self.BoxFolders)\n",
    "    \n",
    "    def closeFoldersBox(self):\n",
    "        self.BoxFolders.close()\n",
    "    \n",
    "    def refreshTextViewPath(self):\n",
    "        self.directory = self.searchEngine.getDirectory()\n",
    "        self.textViewSearch.value = self.directory\n",
    "\n",
    "    def filterFolders(self, folders):\n",
    "        #verificar se tem um ponto\n",
    "        newFolders = []\n",
    "        for folder in folders:\n",
    "            if \".\" not in folder:\n",
    "                if folder != 'qom_questions_transformer':\n",
    "                    newFolders.append(folder)\n",
    "        return newFolders\n",
    "        \n",
    "    def verifyFolder(self):\n",
    "        #verificar se é um exercicio\n",
    "        if(self.exercise.seeIfExercise(self.directory)):\n",
    "            self.closeBoxSerach()#fechar search\n",
    "            self.closeFoldersBox()#fechar folders \n",
    "            self.displayBoxExercise()#abrir exercicio\n",
    "        else:#se não for continuar\n",
    "            self.displayFoldersBox()\n",
    "            \n",
    "            \n",
    "    #_____________________________________________________________________________________________SHOW EXERCISE\n",
    "    \n",
    "    def displayBoxExercise(self):\n",
    "        #--------------------------------------------------------------------------------------------Button Back\n",
    "        buttonb_layout = wg.Layout(width='50px')\n",
    "        buttonBack = wg.Button(description='<', layout=buttonb_layout)\n",
    "        buttonBack.style.button_color = 'lightblue'\n",
    "        buttonBack.on_click(self.backToSearch)\n",
    "        #----------------------------------------------------------------------------------------Button Versions\n",
    "        buttons_layout = wg.Layout()\n",
    "        buttonVersions = wg.Button(description='Generate Versions', layout=buttons_layout)\n",
    "        buttonVersions.on_click(self.displayBoxVersions)\n",
    "        #--------------------------------------------------------------------------------------Button Diferences\n",
    "        buttonDiferences = wg.Button(description='Versions Differences', layout=buttons_layout)\n",
    "        buttonDiferences.on_click(self.displayBoxDifferences)\n",
    "        #------------------------------------------------------------------------------------Button See Versions\n",
    "        buttonSeeVersions = wg.Button(description='See Versions', layout=buttons_layout)\n",
    "        buttonSeeVersions.on_click(self.displayBoxSeeVersions)\n",
    "        #--------------------------------------------------------------------------------------------Box Buttons\n",
    "        buttonsBox_layout = wg.Layout(display='flex',\n",
    "                                       flex_flow='row',\n",
    "                                       align_items='stretch')\n",
    "        if self.exercise.seeIfHasVersions():\n",
    "            boxButtons = wg.Box(children=[buttonBack,\n",
    "                                         buttonVersions,\n",
    "                                         buttonDiferences,\n",
    "                                         buttonSeeVersions],\n",
    "                                      layout=buttonsBox_layout)\n",
    "        else:\n",
    "            boxButtons = wg.Box(children=[buttonBack,\n",
    "                                          buttonVersions,\n",
    "                                          buttonDiferences],\n",
    "                                          layout=buttonsBox_layout)\n",
    "        #-----------------------------------------------------------------------------------------Question Name\n",
    "        #html\n",
    "        name = self.exercise.getExerciseName()\n",
    "        question_name = wg.HTML(value='</br> <p style=\"font-size:14px; color:#5200cc\"><b>QUESTION: \"'+name+'</b>\"</p></br>')\n",
    "        nameBox_layout = wg.Layout(display='flex')\n",
    "        nameBox = wg.VBox(children=[question_name],\n",
    "                                layout=nameBox_layout)\n",
    "        #---------------------------------------------------------------------------------------------Box Image\n",
    "        #ir buscar enunciado\n",
    "        img = self.exercise.getExerciseImg()\n",
    "        exerciseImage = wg.Image(value=img,format='png', width=self.percent)\n",
    "        imageBox_layout = wg.Layout(display='flex')\n",
    "        boxImage = wg.VBox(children=[exerciseImage],\n",
    "                                   layout=imageBox_layout)\n",
    "        #---------------------------------------------------------------------------------------------Box Lines\n",
    "        #ir buscar alineas\n",
    "        lines = self.exercise.getExerciseLinesImg()\n",
    "        box = []\n",
    "        for i in range((int)(len(lines)/2)): #para cada alinea\n",
    "            #adicionar alinea\n",
    "            n = i+1\n",
    "            alinea = wg.HTML(value=\"</br> <b>Answer \" + str(n) + \":</b>\")\n",
    "            box.append(alinea)\n",
    "            #adicionar o tipo e a resposta\n",
    "            type_true = wg.HTML(value=\"<p style='color:#248f24'> <b>True</b> </p>\")\n",
    "            answer_true = wg.Image(value=lines[i*2],format='png')\n",
    "            type_false = wg.HTML(value=\"<p style='color:#e60000'> <b>False</b> </p>\")\n",
    "            answer_false = wg.Image(value=lines[i*2+1],format='png')\n",
    "            line_layout = wg.Layout(display='flex',\n",
    "                                    flex_flow='row')\n",
    "            lineBox_true = wg.VBox(children=[answer_true, type_true],\n",
    "                             layout = line_layout)\n",
    "            box.append(lineBox_true)\n",
    "            lineBox_false = wg.VBox(children=[answer_false, type_false],\n",
    "                             layout = line_layout)\n",
    "            box.append(lineBox_false)\n",
    "            \n",
    "            \n",
    "        linesBox_layout = wg.Layout(display='flex', width=self.percent)\n",
    "        boxLines = wg.VBox(children=box,\n",
    "                           layout=linesBox_layout)\n",
    "        #-------------------------------------------------------------------------------------------Box Exercise\n",
    "        exerciseBox_layout = wg.Layout(display='flex',\n",
    "                                       align_items='stretch',\n",
    "                                       width=self.percent)\n",
    "        self.BoxExercise = wg.VBox(children=[boxButtons,\n",
    "                                             nameBox,\n",
    "                                             boxImage,\n",
    "                                             boxLines],\n",
    "                                             layout=exerciseBox_layout)\n",
    "        #-----------------------------------------------------------------------------------DISPLAY Box Exercise\n",
    "        display(self.BoxExercise)\n",
    "        \n",
    "    def closeBoxExercise(self):\n",
    "        self.BoxExercise.close()\n",
    "        \n",
    "    def backToSearch(self, b):\n",
    "        self.closeBoxExercise()\n",
    "        self.back(0)\n",
    "        self.displaySearchEngine()\n",
    "        \n",
    "        \n",
    "    #_______________________________________________________________________________________________SEE VERSIONS\n",
    "    def displayBoxSeeVersions(self, b):\n",
    "        self.closeBoxExercise()\n",
    "        #--------------------------------------------------------------------------------------------Button Back\n",
    "        button_layout = wg.Layout(width='50px')\n",
    "        buttonBack = wg.Button(description='<', layout=button_layout)\n",
    "        buttonBack.style.button_color = 'lightblue'\n",
    "        buttonBack.on_click(self.backToExercise)\n",
    "        #---------------------------------------------------------------------------------------------Choose text\n",
    "        text_choose = wg.HTML('<p style=\"font-size:14px;\"> Choose the version you would like to see: </p>')\n",
    "        #-----------------------------------------------------------------------------------------------Versions\n",
    "        #ir buscar o nome das pastas com versões\n",
    "        versions_names = self.exercise.getVersionsNames()\n",
    "        #criar butões para cada pasta\n",
    "        button_layout = wg.Layout(width='auto')\n",
    "        items = [wg.Button(description=name, layout=button_layout) for name in versions_names]\n",
    "        for item in items:\n",
    "            item.on_click(self.displayTheVersion)\n",
    "            item.style.button_color = 'AliceBlue'\n",
    "        Box_layout = wg.Layout(display='flex',\n",
    "                               align_items='stretch',\n",
    "                               width=self.percent)\n",
    "        box_version_names = wg.VBox(children = items, layout = Box_layout)\n",
    "        #---------------------------------------------------------------------------------------Box see versions\n",
    "        self.BoxSeeVersions = wg.VBox(children = [buttonBack,\n",
    "                                                  text_choose,\n",
    "                                                  box_version_names],\n",
    "                                        layout = Box_layout)\n",
    "        #----------------------------------------------------------------------------------------------DISPLAY\n",
    "        display(self.BoxSeeVersions)\n",
    "    \n",
    "    def displayTheVersion(self, b):\n",
    "        version = b.description[-1]\n",
    "        #--------------------------------------------------------------------------------------------Button Back\n",
    "        button_layout = wg.Layout(width='50px')\n",
    "        buttonBack = wg.Button(description='<', layout=button_layout)\n",
    "        buttonBack.style.button_color = 'lightblue'\n",
    "        buttonBack.on_click(self.backToBoxSeeVersions)\n",
    "        #-----------------------------------------------------------------------------------------Question Name\n",
    "        #html\n",
    "        name = self.exercise.getExerciseName()\n",
    "        question_name = wg.HTML(value='</br> <p style=\"font-size:14px; color:#5200cc\"><b>QUESTION: \"'+name+'\", version '+version+'</b></p></br>')\n",
    "        nameBox_layout = wg.Layout(display='flex')\n",
    "        nameBox = wg.VBox(children=[question_name],\n",
    "                                layout=nameBox_layout)\n",
    "        #---------------------------------------------------------------------------------------------Box Image\n",
    "        #ir buscar imagens\n",
    "        imgs = self.exercise.getVersionImgs(version)\n",
    "        exerciseImage = wg.Image(value=imgs[0],format='png', width=self.percent)\n",
    "        imageBox_layout = wg.Layout(display='flex')\n",
    "        boxImage = wg.VBox(children=[exerciseImage],\n",
    "                                   layout=imageBox_layout)\n",
    "        #---------------------------------------------------------------------------------------------Box Lines\n",
    "        #ir buscar alineas\n",
    "        box = []\n",
    "        for i in range((int)(len(imgs[1])/2)): #para cada alinea\n",
    "            #adicionar alinea\n",
    "            n = i+1\n",
    "            alinea = wg.HTML(value=\"</br> <b>Answer \" + str(n) + \":</b>\")\n",
    "            box.append(alinea)\n",
    "            #adicionar o tipo e a resposta\n",
    "            type_true = wg.HTML(value=\"<p style='color:#248f24'> <b>True</b> </p>\")\n",
    "            answer_true = wg.Image(value=imgs[1][i*2],format='png')\n",
    "            type_false = wg.HTML(value=\"<p style='color:#e60000'> <b>False</b> </p>\")\n",
    "            answer_false = wg.Image(value=imgs[1][i*2+1],format='png')\n",
    "            \n",
    "            line_layout = wg.Layout(display='flex',\n",
    "                                    flex_flow='row')\n",
    "            lineBox_true = wg.VBox(children=[answer_true, type_true],\n",
    "                             layout = line_layout)\n",
    "            box.append(lineBox_true)\n",
    "            lineBox_false = wg.VBox(children=[answer_false, type_false],\n",
    "                             layout = line_layout)\n",
    "            box.append(lineBox_false)\n",
    "            \n",
    "            \n",
    "        linesBox_layout = wg.Layout(display='flex', width=self.percent)\n",
    "        boxLines = wg.VBox(children=box,\n",
    "                           layout=linesBox_layout)\n",
    "        #-------------------------------------------------------------------------------------------Box Exercise\n",
    "        Box_layout = wg.Layout(display='flex',\n",
    "                                       align_items='stretch',\n",
    "                                       width=self.percent)\n",
    "        self.BoxSeeVersion = wg.VBox(children=[buttonBack,\n",
    "                                               nameBox,\n",
    "                                               boxImage,\n",
    "                                               boxLines],\n",
    "                                               layout=Box_layout)\n",
    "        #----------------------------------------------------------------------------------------------DISPLAY\n",
    "        self.closeBoxSeeVersions()\n",
    "        display(self.BoxSeeVersion)\n",
    "    \n",
    "    def closeBoxSeeVersion(self):\n",
    "        self.BoxSeeVersion.close()\n",
    "    \n",
    "    def backToBoxSeeVersions(self, b):\n",
    "        self.closeBoxSeeVersion()\n",
    "        self.displayBoxSeeVersions(0)\n",
    "        \n",
    "    def closeBoxSeeVersions(self):\n",
    "        self.BoxSeeVersions.close()\n",
    "        \n",
    "    #___________________________________________________________________________________________SHOW DIFFERENCES\n",
    "    def displayBoxDifferences(self, b):\n",
    "        self.closeBoxExercise()\n",
    "        #--------------------------------------------------------------------------------------------Button Back\n",
    "        button_layout = wg.Layout(width='50px')\n",
    "        buttonBack = wg.Button(description='<', layout=button_layout)\n",
    "        buttonBack.style.button_color = 'lightblue'\n",
    "        buttonBack.on_click(self.backToExercise)\n",
    "        #---------------------------------------------------------------------------------------------Choose text\n",
    "        text_choose = wg.HTML('<p style=\"font-size:14px;\"> Choose the file you would like to see: </p>')\n",
    "        #------------------------------------------------------------------------------------------Py differences\n",
    "        #ir buscar os ficheiros py existentes\n",
    "        pyFiles = self.exercise.getPyFilesNames()\n",
    "        #criar os botões para cada py file\n",
    "        buttonPy_layout = wg.Layout(width='auto')\n",
    "        itemsPy = [wg.Button(description=pyFile, layout=buttonPy_layout) for pyFile in pyFiles]\n",
    "        for item in itemsPy:\n",
    "            item.on_click(self.displayPyDiferencesBox)\n",
    "            item.style.button_color = 'Gold'\n",
    "        boxPy_layout = wg.Layout(display='flex',\n",
    "                                    flex_flow='column',\n",
    "                                    align_items='stretch',\n",
    "                                    width=self.percent)\n",
    "        boxPy = wg.Box(children=itemsPy, layout=boxPy_layout)\n",
    "        #-----------------------------------------------------------------------------------------Tex differences\n",
    "        #ir buscar os ficheiros tex existentes\n",
    "        texFiles = self.exercise.getTexFilesNames()\n",
    "        #criar os butões para cada tex file\n",
    "        buttonTex_layout = wg.Layout(width='auto')\n",
    "        itemsTex = [wg.Button(description=texFile, layout=buttonPy_layout) for texFile in texFiles]\n",
    "        for item in itemsTex:\n",
    "            item.on_click(self.displayTexDifferencesBox)\n",
    "            item.style.button_color = 'Plum'\n",
    "        boxTex_layout = wg.Layout(display='flex',\n",
    "                                    flex_flow='column',\n",
    "                                    align_items='stretch',\n",
    "                                    width=self.percent)\n",
    "        boxTex = wg.Box(children=itemsTex, layout=boxTex_layout)\n",
    "        #-----------------------------------------------------------------------------------------Box Differences\n",
    "        differencesBox_layout = wg.Layout(display='flex',\n",
    "                                       align_items='stretch',\n",
    "                                       width=self.percent)\n",
    "        self.BoxDifferences = wg.VBox(children = [buttonBack,\n",
    "                                                  text_choose,\n",
    "                                                  boxPy,\n",
    "                                                  boxTex],\n",
    "                                      layout = differencesBox_layout)\n",
    "        #----------------------------------------------------------------------------------DISPLAY Box Diferences\n",
    "        display(self.BoxDifferences)\n",
    "    \n",
    "    def closeBoxDifferences(self):\n",
    "        self.BoxDifferences.close()\n",
    "    \n",
    "    def backToExercise(self, b):\n",
    "        self.closeBoxDifferences()\n",
    "        self.colseBoxVersions()\n",
    "        self.closeBoxSeeVersions()\n",
    "        self.displayBoxExercise()\n",
    "        \n",
    "    def displayPyDiferencesBox(self, b):\n",
    "        #------------------------------------------------------------------------------------Box Py Differences\n",
    "        #ir buscar o nome do ficheiro \n",
    "        fileName = b.description\n",
    "        #------------------------------------------------------------------------------------------Button back\n",
    "        button_layout = wg.Layout(width='50px')\n",
    "        buttonBack = wg.Button(description='<', layout=button_layout)\n",
    "        buttonBack.style.button_color = 'lightblue'\n",
    "        buttonBack.on_click(self.backToDifferences)\n",
    "        #----------------------------------------------------------------------------------------------Py Text\n",
    "        fileNameText = wg.HTML('<p style=\"font-size:18px; color:#0059b3\">'+fileName+'</p></br>')\n",
    "        text = wg.HTML('<div style=\"font-family:Courier New; font-size:14px\">'+self.exercise.getPyFileDifferences(fileName)+'</div>')\n",
    "        #----------------------------------------------------------------------------------------- Box Py Text\n",
    "        boxPy_layout = wg.Layout(display='flex',\n",
    "                                   align_items='stretch',\n",
    "                                   border='solid')\n",
    "        boxPy = wg.VBox(children = [fileNameText,\n",
    "                                    text],\n",
    "                        layout = boxPy_layout)\n",
    "\n",
    "        differencesPyBox_layout = wg.Layout(display='flex',\n",
    "                                            align_items='stretch',\n",
    "                                            width=self.percent)\n",
    "        self.BoxPyDifferences = wg.VBox(children = [buttonBack,\n",
    "                                                    boxPy],\n",
    "                                layout = differencesPyBox_layout)\n",
    "        #---------------------------------------------------------------------------------------DISPLAY Box Py\n",
    "        self.closeBoxDifferences()\n",
    "        display(self.BoxPyDifferences)\n",
    "    \n",
    "    def closeBoxPyDifferences(self):\n",
    "        self.BoxPyDifferences.close()\n",
    "    \n",
    "    def displayTexDifferencesBox(self, b):\n",
    "        #-----------------------------------------------------------------------------------Box Tex Differences\n",
    "        #ir buscar o nome do ficheiro \n",
    "        fileName = b.description\n",
    "        #------------------------------------------------------------------------------------------Button back\n",
    "        button_layout = wg.Layout(width='50px')\n",
    "        buttonBack = wg.Button(description='<', layout=button_layout)\n",
    "        buttonBack.style.button_color = 'lightblue'\n",
    "        buttonBack.on_click(self.backToDifferences)\n",
    "        #----------------------------------------------------------------------------------------------Tex Text\n",
    "        fileNameText = wg.HTML('<p style=\"font-size:18px; color:#0059b3\">'+fileName+'</p></br>')\n",
    "        text = wg.HTML('<div style=\"font-family:Courier New; font-size:14px\">'+self.exercise.getTexFileDifference(fileName)+'</div>')\n",
    "        #----------------------------------------------------------------------------------------- Box Tex Text\n",
    "        boxTex_layout = wg.Layout(display='flex',\n",
    "                                   align_items='stretch',\n",
    "                                   border='solid')\n",
    "        boxTex = wg.VBox(children = [fileNameText,\n",
    "                                    text],\n",
    "                        layout = boxTex_layout)\n",
    "\n",
    "        differencesTexBox_layout = wg.Layout(display='flex',\n",
    "                                            align_items='stretch',\n",
    "                                            width=self.percent)\n",
    "        self.BoxTexDifferences = wg.VBox(children = [buttonBack,\n",
    "                                                    boxTex],\n",
    "                                layout = differencesTexBox_layout)\n",
    "        #--------------------------------------------------------------------------------------DISPLAY Box Tex\n",
    "        self.closeBoxDifferences()\n",
    "        display(self.BoxTexDifferences)\n",
    "    \n",
    "    def closeBoxTexDifferences(self):\n",
    "        self.BoxTexDifferences.close()\n",
    "        \n",
    "    def backToDifferences(self, b):\n",
    "        self.closeBoxPyDifferences()\n",
    "        self.closeBoxTexDifferences()\n",
    "        self.displayBoxDifferences(0)\n",
    "        \n",
    "    #___________________________________________________________________________________________CREATE VERSIONS\n",
    "    def displayBoxVersions(self, b):\n",
    "        self.closeBoxExercise()\n",
    "        self.createBoxVersions()\n",
    "        \n",
    "    def createBoxVersions(self):\n",
    "        #--------------------------------------------------------------------------------------------Button Back\n",
    "        button_layout = wg.Layout(width='50px')\n",
    "        buttonBack = wg.Button(description='<', layout=button_layout)\n",
    "        buttonBack.style.button_color = 'lightblue'\n",
    "        buttonBack.on_click(self.backToExercise)\n",
    "        #---------------------------------------------------------------------------------------- text Versions\n",
    "        text_version = wg.HTML('<p style=\"font-size:14px;\"> Choose the number of versions to generate:</p>')\n",
    "        #------------------------------------------------------------------------------------ textView Versions\n",
    "        self.versions = wg.IntText(value=1,disabled=False)\n",
    "        #---------------------------------------------------------------------------------------button Versions\n",
    "        buttongenerate_layout = wg.Layout()\n",
    "        buttonGenerate = wg.Button(description='Generate', layout=buttongenerate_layout)\n",
    "        buttonGenerate.style.button_color = 'Coral'\n",
    "        buttonGenerate.on_click(self.generateVersions)\n",
    "        #------------------------------------------------------------------------------------------------error\n",
    "        self.versionError = wg.HTML('<p style=\"color:#990000;\">Please generate one or more versions.</p>')\n",
    "        #------------------------------------------------------------------------------------------box Versions\n",
    "        versionsBox_layout = wg.Layout(display='flex',\n",
    "                                       align_items='stretch',\n",
    "                                       width=self.percent)\n",
    "        self.BoxVersions = wg.VBox(children=[buttonBack,\n",
    "                                             text_version,\n",
    "                                             self.versions,\n",
    "                                             buttonGenerate],\n",
    "                                      layout=versionsBox_layout)\n",
    "        #----------------------------------------------------------------------------------DISPLAY Box Versions\n",
    "        display(self.BoxVersions)\n",
    "    \n",
    "    def colseBoxVersions(self):\n",
    "        self.versionError.close()\n",
    "        self.BoxVersions.close()\n",
    "    \n",
    "    def generateVersions(self, b):\n",
    "        number = self.versions.value\n",
    "        if number >= 1:\n",
    "            #alterar numero de vesões a gerar no ficheiro py\n",
    "            self.exercise.changeNumberOfVersions(number)\n",
    "            #gerar versões\n",
    "            self.exercise.generateVersions()\n",
    "            #voltar para exercicio\n",
    "            self.colseBoxVersions()\n",
    "            self.displayBoxExercise()\n",
    "        else:\n",
    "            if self.errorversion == False:\n",
    "                display(self.versionError)\n",
    "                self.errorversion = True\n",
    "        \n",
    "        \n",
    "if __name__ == '__main__':\n",
    "    AppInterface()\n",
    "    "
   ]
  },
  {
   "cell_type": "code",
   "execution_count": 3,
   "metadata": {},
   "outputs": [
    {
     "data": {
      "text/html": [
       "<script>\n",
       "$('div.input').hide();\n",
       "</script>"
      ],
      "text/plain": [
       "<IPython.core.display.HTML object>"
      ]
     },
     "execution_count": 3,
     "metadata": {},
     "output_type": "execute_result"
    }
   ],
   "source": [
    "from IPython.display import HTML\n",
    "\n",
    "HTML('''<script>\n",
    "$('div.input').hide();\n",
    "</script>''')"
   ]
  },
  {
   "cell_type": "code",
   "execution_count": null,
   "metadata": {},
   "outputs": [],
   "source": []
  }
 ],
 "metadata": {
  "celltoolbar": "Raw Cell Format",
  "kernelspec": {
   "display_name": "Python 3",
   "language": "python",
   "name": "python3"
  },
  "language_info": {
   "codemirror_mode": {
    "name": "ipython",
    "version": 3
   },
   "file_extension": ".py",
   "mimetype": "text/x-python",
   "name": "python",
   "nbconvert_exporter": "python",
   "pygments_lexer": "ipython3",
   "version": "3.7.6"
  },
  "widgets": {
   "application/vnd.jupyter.widget-state+json": {
    "state": {
     "016a82082a4f4e678a21747fa68ae161": {
      "model_module": "@jupyter-widgets/controls",
      "model_module_version": "1.5.0",
      "model_name": "BoxModel",
      "state": {
       "layout": "IPY_MODEL_bb28443d3f6f42bf830e40c9f7aef86c"
      }
     },
     "0211855c64544afdb475e08efc6b4634": {
      "model_module": "@jupyter-widgets/controls",
      "model_module_version": "1.5.0",
      "model_name": "ButtonStyleModel",
      "state": {}
     },
     "12e958fcbebc43e4af71c1f7a038d8c3": {
      "model_module": "@jupyter-widgets/controls",
      "model_module_version": "1.5.0",
      "model_name": "ButtonModel",
      "state": {
       "button_style": "info",
       "description": "Search",
       "layout": "IPY_MODEL_e6f1286ba8764d37bcc4b1d46e62d234",
       "style": "IPY_MODEL_8a9edf9e3bb243b794432287475e3732"
      }
     },
     "174671a4053d4f6baaced6e5c071e2d6": {
      "model_module": "@jupyter-widgets/controls",
      "model_module_version": "1.5.0",
      "model_name": "ButtonModel",
      "state": {
       "description": "my_test",
       "layout": "IPY_MODEL_39ab69e8b80c4c0383c6aafe7bd50b8e",
       "style": "IPY_MODEL_61beb164bce24ac3ad2dcb848fe07f32"
      }
     },
     "1e634b80ab624122aa51579463969aad": {
      "model_module": "@jupyter-widgets/base",
      "model_module_version": "1.2.0",
      "model_name": "LayoutModel",
      "state": {
       "align_items": "stretch",
       "display": "flex",
       "flex_flow": "column",
       "width": "80%"
      }
     },
     "39ab69e8b80c4c0383c6aafe7bd50b8e": {
      "model_module": "@jupyter-widgets/base",
      "model_module_version": "1.2.0",
      "model_name": "LayoutModel",
      "state": {
       "width": "auto"
      }
     },
     "40bd08e2dc274107a1ec141ccbaf9083": {
      "model_module": "@jupyter-widgets/controls",
      "model_module_version": "1.5.0",
      "model_name": "ButtonStyleModel",
      "state": {
       "button_color": "lightblue"
      }
     },
     "50f15cd021934f549367dd5eb225173d": {
      "model_module": "@jupyter-widgets/base",
      "model_module_version": "1.2.0",
      "model_name": "LayoutModel",
      "state": {}
     },
     "58a397c3de0444daa2165d17dcdaa9e6": {
      "model_module": "@jupyter-widgets/base",
      "model_module_version": "1.2.0",
      "model_name": "LayoutModel",
      "state": {}
     },
     "59ec30c45b7a400a962e9f556eb6c2ed": {
      "model_module": "@jupyter-widgets/controls",
      "model_module_version": "1.5.0",
      "model_name": "BoxModel",
      "state": {
       "children": [
        "IPY_MODEL_65627ea33fd342599b01b3cfa2f7b86b",
        "IPY_MODEL_a434db084c0d43998fa56d217bb5e0f3",
        "IPY_MODEL_12e958fcbebc43e4af71c1f7a038d8c3"
       ],
       "layout": "IPY_MODEL_7beb4991b0924f83added8ed7b5850b7"
      }
     },
     "61beb164bce24ac3ad2dcb848fe07f32": {
      "model_module": "@jupyter-widgets/controls",
      "model_module_version": "1.5.0",
      "model_name": "ButtonStyleModel",
      "state": {}
     },
     "63a2e5ff13504c6a8e3e6f7672d555fe": {
      "model_module": "@jupyter-widgets/controls",
      "model_module_version": "1.5.0",
      "model_name": "BoxModel",
      "state": {
       "layout": "IPY_MODEL_686868a8d8614a308c95b7a1d9f8f78e"
      }
     },
     "65627ea33fd342599b01b3cfa2f7b86b": {
      "model_module": "@jupyter-widgets/controls",
      "model_module_version": "1.5.0",
      "model_name": "ButtonModel",
      "state": {
       "description": "<",
       "layout": "IPY_MODEL_d6642e2350e84c77a378ad6ca4df5dcb",
       "style": "IPY_MODEL_40bd08e2dc274107a1ec141ccbaf9083",
       "tooltip": "back"
      }
     },
     "686868a8d8614a308c95b7a1d9f8f78e": {
      "model_module": "@jupyter-widgets/base",
      "model_module_version": "1.2.0",
      "model_name": "LayoutModel",
      "state": {}
     },
     "6daf6fc4edbc4907be02807778271ca7": {
      "model_module": "@jupyter-widgets/base",
      "model_module_version": "1.2.0",
      "model_name": "LayoutModel",
      "state": {}
     },
     "706b6764322246bbb259b0c7918a878b": {
      "model_module": "@jupyter-widgets/controls",
      "model_module_version": "1.5.0",
      "model_name": "BoxModel",
      "state": {
       "children": [
        "IPY_MODEL_d30af0f2f3494f9aa6cc29d82457b745",
        "IPY_MODEL_dd4fce7f54e14d48a80fcde33a3ac5e6",
        "IPY_MODEL_174671a4053d4f6baaced6e5c071e2d6",
        "IPY_MODEL_83cbbe5c15d044538998e7040f65e28e"
       ],
       "layout": "IPY_MODEL_1e634b80ab624122aa51579463969aad"
      }
     },
     "71e10c715fc64f6a85762dc32ba6fbf2": {
      "model_module": "@jupyter-widgets/controls",
      "model_module_version": "1.5.0",
      "model_name": "ButtonStyleModel",
      "state": {}
     },
     "77fea7734ace43af98a4e91a2bf3a84e": {
      "model_module": "@jupyter-widgets/controls",
      "model_module_version": "1.5.0",
      "model_name": "BoxModel",
      "state": {
       "layout": "IPY_MODEL_58a397c3de0444daa2165d17dcdaa9e6"
      }
     },
     "7beb4991b0924f83added8ed7b5850b7": {
      "model_module": "@jupyter-widgets/base",
      "model_module_version": "1.2.0",
      "model_name": "LayoutModel",
      "state": {
       "align_items": "stretch",
       "display": "flex",
       "flex_flow": "row",
       "width": "80%"
      }
     },
     "83cbbe5c15d044538998e7040f65e28e": {
      "model_module": "@jupyter-widgets/controls",
      "model_module_version": "1.5.0",
      "model_name": "ButtonModel",
      "state": {
       "description": "__pycache__",
       "layout": "IPY_MODEL_39ab69e8b80c4c0383c6aafe7bd50b8e",
       "style": "IPY_MODEL_0211855c64544afdb475e08efc6b4634"
      }
     },
     "85e01063821a4320af46e9c459d49840": {
      "model_module": "@jupyter-widgets/base",
      "model_module_version": "1.2.0",
      "model_name": "LayoutModel",
      "state": {}
     },
     "86b90513abba4d3ab679e84d1df32a53": {
      "model_module": "@jupyter-widgets/controls",
      "model_module_version": "1.5.0",
      "model_name": "BoxModel",
      "state": {
       "layout": "IPY_MODEL_e2427aaef55b4015a7cd9acec5f227ce"
      }
     },
     "8a9edf9e3bb243b794432287475e3732": {
      "model_module": "@jupyter-widgets/controls",
      "model_module_version": "1.5.0",
      "model_name": "ButtonStyleModel",
      "state": {}
     },
     "90460e8b276e4f909a6e73414e842af0": {
      "model_module": "@jupyter-widgets/base",
      "model_module_version": "1.2.0",
      "model_name": "LayoutModel",
      "state": {}
     },
     "90602bd4237c4d14943e557802024e10": {
      "model_module": "@jupyter-widgets/base",
      "model_module_version": "1.2.0",
      "model_name": "LayoutModel",
      "state": {
       "flex": "15 20 auto",
       "width": "auto"
      }
     },
     "a3da54ed02dd4f3c8650c884ce2ea39f": {
      "model_module": "@jupyter-widgets/controls",
      "model_module_version": "1.5.0",
      "model_name": "BoxModel",
      "state": {
       "layout": "IPY_MODEL_6daf6fc4edbc4907be02807778271ca7"
      }
     },
     "a434db084c0d43998fa56d217bb5e0f3": {
      "model_module": "@jupyter-widgets/controls",
      "model_module_version": "1.5.0",
      "model_name": "TextModel",
      "state": {
       "layout": "IPY_MODEL_90602bd4237c4d14943e557802024e10",
       "style": "IPY_MODEL_a929d020434947069c0f42f5f7eacb14",
       "value": "C:\\6SEM\\Projeto\\Projeto"
      }
     },
     "a929d020434947069c0f42f5f7eacb14": {
      "model_module": "@jupyter-widgets/controls",
      "model_module_version": "1.5.0",
      "model_name": "DescriptionStyleModel",
      "state": {
       "description_width": ""
      }
     },
     "b15af27d6172495484fe1769b2c6a00f": {
      "model_module": "@jupyter-widgets/controls",
      "model_module_version": "1.5.0",
      "model_name": "BoxModel",
      "state": {
       "layout": "IPY_MODEL_f7ea63fb5d48417f9c13164435c39e3d"
      }
     },
     "bb28443d3f6f42bf830e40c9f7aef86c": {
      "model_module": "@jupyter-widgets/base",
      "model_module_version": "1.2.0",
      "model_name": "LayoutModel",
      "state": {}
     },
     "c0924e51d4f94ce09ed1a4ef37f3b614": {
      "model_module": "@jupyter-widgets/controls",
      "model_module_version": "1.5.0",
      "model_name": "BoxModel",
      "state": {
       "layout": "IPY_MODEL_85e01063821a4320af46e9c459d49840"
      }
     },
     "cb483e525e3a4d22b7d030b7b9f6a627": {
      "model_module": "@jupyter-widgets/controls",
      "model_module_version": "1.5.0",
      "model_name": "ButtonStyleModel",
      "state": {}
     },
     "d30af0f2f3494f9aa6cc29d82457b745": {
      "model_module": "@jupyter-widgets/controls",
      "model_module_version": "1.5.0",
      "model_name": "ButtonModel",
      "state": {
       "description": "Data Base Teste",
       "layout": "IPY_MODEL_39ab69e8b80c4c0383c6aafe7bd50b8e",
       "style": "IPY_MODEL_cb483e525e3a4d22b7d030b7b9f6a627"
      }
     },
     "d6642e2350e84c77a378ad6ca4df5dcb": {
      "model_module": "@jupyter-widgets/base",
      "model_module_version": "1.2.0",
      "model_name": "LayoutModel",
      "state": {
       "flex": "1 20 auto",
       "width": "auto"
      }
     },
     "d9b1b12471454cd89544b1c229b7143e": {
      "model_module": "@jupyter-widgets/controls",
      "model_module_version": "1.5.0",
      "model_name": "HTMLModel",
      "state": {
       "layout": "IPY_MODEL_90460e8b276e4f909a6e73414e842af0",
       "style": "IPY_MODEL_f37f2896e5ca4057b889f8567150c38f"
      }
     },
     "dd4fce7f54e14d48a80fcde33a3ac5e6": {
      "model_module": "@jupyter-widgets/controls",
      "model_module_version": "1.5.0",
      "model_name": "ButtonModel",
      "state": {
       "description": "DataBase",
       "layout": "IPY_MODEL_39ab69e8b80c4c0383c6aafe7bd50b8e",
       "style": "IPY_MODEL_71e10c715fc64f6a85762dc32ba6fbf2"
      }
     },
     "e2427aaef55b4015a7cd9acec5f227ce": {
      "model_module": "@jupyter-widgets/base",
      "model_module_version": "1.2.0",
      "model_name": "LayoutModel",
      "state": {}
     },
     "e6f1286ba8764d37bcc4b1d46e62d234": {
      "model_module": "@jupyter-widgets/base",
      "model_module_version": "1.2.0",
      "model_name": "LayoutModel",
      "state": {
       "flex": "1 20 auto",
       "width": "auto"
      }
     },
     "e96d7b2364d546cebee263630eb902ff": {
      "model_module": "@jupyter-widgets/base",
      "model_module_version": "1.2.0",
      "model_name": "LayoutModel",
      "state": {}
     },
     "f37f2896e5ca4057b889f8567150c38f": {
      "model_module": "@jupyter-widgets/controls",
      "model_module_version": "1.5.0",
      "model_name": "DescriptionStyleModel",
      "state": {
       "description_width": ""
      }
     },
     "f6270926ca564af8824c36fab6128526": {
      "model_module": "@jupyter-widgets/base",
      "model_module_version": "1.2.0",
      "model_name": "LayoutModel",
      "state": {
       "flex": "1 20 auto",
       "width": "50px"
      }
     },
     "f7ea63fb5d48417f9c13164435c39e3d": {
      "model_module": "@jupyter-widgets/base",
      "model_module_version": "1.2.0",
      "model_name": "LayoutModel",
      "state": {}
     }
    },
    "version_major": 2,
    "version_minor": 0
   }
  }
 },
 "nbformat": 4,
 "nbformat_minor": 4
}
